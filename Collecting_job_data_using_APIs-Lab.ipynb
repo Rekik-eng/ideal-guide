{
 "cells": [
  {
   "cell_type": "markdown",
   "metadata": {},
   "source": [
    "<p style=\"text-align:center\">\n",
    "    <a href=\"https://skills.network\" target=\"_blank\">\n",
    "    <img src=\"https://cf-courses-data.s3.us.cloud-object-storage.appdomain.cloud/assets/logos/SN_web_lightmode.png\" width=\"200\" alt=\"Skills Network Logo\">\n",
    "    </a>\n",
    "</p>\n"
   ]
  },
  {
   "cell_type": "markdown",
   "metadata": {},
   "source": [
    "# **Collecting Job Data Using APIs**\n"
   ]
  },
  {
   "cell_type": "markdown",
   "metadata": {},
   "source": [
    "Estimated time needed: **45 to 60** minutes\n"
   ]
  },
  {
   "cell_type": "markdown",
   "metadata": {},
   "source": [
    "## Objectives\n"
   ]
  },
  {
   "cell_type": "markdown",
   "metadata": {},
   "source": [
    "After completing this lab, you will be able to:\n"
   ]
  },
  {
   "cell_type": "markdown",
   "metadata": {},
   "source": [
    "*   Collect job data from GitHub Jobs API\n",
    "*   Store the collected data into an excel spreadsheet.\n"
   ]
  },
  {
   "cell_type": "markdown",
   "metadata": {},
   "source": [
    "><strong>Note: Before starting with the assignment make sure to read all the instructions and then move ahead with the coding part.</strong>\n"
   ]
  },
  {
   "cell_type": "markdown",
   "metadata": {},
   "source": [
    "#### Instructions\n"
   ]
  },
  {
   "cell_type": "markdown",
   "metadata": {},
   "source": [
    "To run the actual lab, firstly you need to click on the [Jobs_API](https://cf-courses-data.s3.us.cloud-object-storage.appdomain.cloud/IBM-DA0321EN-SkillsNetwork/labs/module%201/Accessing%20Data%20Using%20APIs/Jobs_API.ipynb) notebook link. The file contains flask code which is required to run the Jobs API data.\n",
    "\n",
    "Now, to run the code in the file that opens up follow the below steps.\n",
    "\n",
    "Step1: Download the file. \n",
    "\n",
    "Step2: Upload it on the IBM Watson studio. (If IBM Watson Cloud service does not work in your system, follow the alternate Step 2 below)\n",
    "\n",
    "Step2(alternate): Upload it in your SN labs environment using the upload button which is highlighted in red in the image below:\n",
    "Remember to upload this Jobs_API file in the same folder as your current .ipynb file\n",
    "\n",
    "<img src=\"https://cf-courses-data.s3.us.cloud-object-storage.appdomain.cloud/IBM-DA0321EN-SkillsNetwork/labs/module%201/Accessing%20Data%20Using%20APIs/Upload.PNG\">\n",
    "\n",
    "Step3:  Run all the cells of the Jobs_API file. (Even if you receive an asterik sign after running the last cell, the code works fine.)\n",
    "\n",
    "If you want to learn more about flask, which is optional, you can click on this link [here](https://cf-courses-data.s3.us.cloud-object-storage.appdomain.cloud/IBM-DA0321EN-SkillsNetwork/labs/module%201/Accessing%20Data%20Using%20APIs/FLASK_API.md.html).\n",
    "\n",
    "Once you run the flask code, you can start with your assignment.\n"
   ]
  },
  {
   "cell_type": "markdown",
   "metadata": {},
   "source": [
    "## Dataset Used in this Assignment\n",
    "\n",
    "The dataset used in this lab comes from the following source: https://www.kaggle.com/promptcloud/jobs-on-naukricom under the under a **Public Domain license**.\n",
    "\n",
    "> Note: We are using a modified subset of that dataset for the lab, so to follow the lab instructions successfully please use the dataset provided with the lab, rather than the dataset from the original source.\n",
    "\n",
    "The original dataset is a csv. We have converted the csv to json as per the requirement of the lab.\n"
   ]
  },
  {
   "cell_type": "markdown",
   "metadata": {},
   "source": [
    "## Warm-Up Exercise\n"
   ]
  },
  {
   "cell_type": "markdown",
   "metadata": {},
   "source": [
    "Before you attempt the actual lab, here is a fully solved warmup exercise that will help you to learn how to access an API.\n"
   ]
  },
  {
   "cell_type": "markdown",
   "metadata": {},
   "source": [
    "Using an API, let us find out who currently are on the International Space Station (ISS).<br> The API at [http://api.open-notify.org/astros.json](http://api.open-notify.org/astros.json?utm_medium=Exinfluencer&utm_source=Exinfluencer&utm_content=000026UJ&utm_term=10006555&utm_id=NA-SkillsNetwork-Channel-SkillsNetworkCoursesIBMDA0321ENSkillsNetwork21426264-2021-01-01&cm_mmc=Email_Newsletter-_-Developer_Ed%2BTech-_-WW_WW-_-SkillsNetwork-Courses-IBM-DA0321EN-SkillsNetwork-21426264&cm_mmca1=000026UJ&cm_mmca2=10006555&cm_mmca3=M12345678&cvosrc=email.Newsletter.M12345678&cvo_campaign=000026UJ) gives us the information of astronauts currently on ISS in json format.<br>\n",
    "You can read more about this API at [http://open-notify.org/Open-Notify-API/People-In-Space/](http://open-notify.org/Open-Notify-API/People-In-Space?utm_medium=Exinfluencer&utm_source=Exinfluencer&utm_content=000026UJ&utm_term=10006555&utm_id=NA-SkillsNetwork-Channel-SkillsNetworkCoursesIBMDA0321ENSkillsNetwork21426264-2021-01-01&cm_mmc=Email_Newsletter-_-Developer_Ed%2BTech-_-WW_WW-_-SkillsNetwork-Courses-IBM-DA0321EN-SkillsNetwork-21426264&cm_mmca1=000026UJ&cm_mmca2=10006555&cm_mmca3=M12345678&cvosrc=email.Newsletter.M12345678&cvo_campaign=000026UJ)\n"
   ]
  },
  {
   "cell_type": "code",
   "execution_count": 16,
   "metadata": {
    "tags": []
   },
   "outputs": [],
   "source": [
    "import requests # you need this module to make an API call\n",
    "import pandas as pd"
   ]
  },
  {
   "cell_type": "code",
   "execution_count": 17,
   "metadata": {
    "tags": []
   },
   "outputs": [],
   "source": [
    "api_url = \"http://api.open-notify.org/astros.json\" # this url gives use the astronaut data"
   ]
  },
  {
   "cell_type": "code",
   "execution_count": 18,
   "metadata": {
    "tags": []
   },
   "outputs": [],
   "source": [
    "response = requests.get(api_url) # Call the API using the get method and store the\n",
    "                                # output of the API call in a variable called response."
   ]
  },
  {
   "cell_type": "code",
   "execution_count": 19,
   "metadata": {
    "tags": []
   },
   "outputs": [],
   "source": [
    "if response.ok:             # if all is well() no errors, no network timeouts)\n",
    "    data = response.json()  # store the result in json format in a variable called data\n",
    "                            # the variable data is of type dictionary."
   ]
  },
  {
   "cell_type": "code",
   "execution_count": 20,
   "metadata": {
    "tags": []
   },
   "outputs": [
    {
     "name": "stdout",
     "output_type": "stream",
     "text": [
      "{'people': [{'craft': 'ISS', 'name': 'Oleg Kononenko'}, {'craft': 'ISS', 'name': 'Nikolai Chub'}, {'craft': 'ISS', 'name': 'Tracy Caldwell Dyson'}, {'craft': 'ISS', 'name': 'Matthew Dominick'}, {'craft': 'ISS', 'name': 'Michael Barratt'}, {'craft': 'ISS', 'name': 'Jeanette Epps'}, {'craft': 'ISS', 'name': 'Alexander Grebenkin'}, {'craft': 'ISS', 'name': 'Butch Wilmore'}, {'craft': 'ISS', 'name': 'Sunita Williams'}, {'craft': 'Tiangong', 'name': 'Li Guangsu'}, {'craft': 'Tiangong', 'name': 'Li Cong'}, {'craft': 'Tiangong', 'name': 'Ye Guangfu'}], 'number': 12, 'message': 'success'}\n"
     ]
    }
   ],
   "source": [
    "print(data)   # print the data just to check the output or for debugging"
   ]
  },
  {
   "cell_type": "markdown",
   "metadata": {},
   "source": [
    "Print the number of astronauts currently on ISS.\n"
   ]
  },
  {
   "cell_type": "code",
   "execution_count": 21,
   "metadata": {
    "tags": []
   },
   "outputs": [
    {
     "name": "stdout",
     "output_type": "stream",
     "text": [
      "12\n"
     ]
    }
   ],
   "source": [
    "print(data.get('number'))"
   ]
  },
  {
   "cell_type": "markdown",
   "metadata": {},
   "source": [
    "Print the names of the astronauts currently on ISS.\n"
   ]
  },
  {
   "cell_type": "code",
   "execution_count": 22,
   "metadata": {
    "tags": []
   },
   "outputs": [
    {
     "name": "stdout",
     "output_type": "stream",
     "text": [
      "There are 12 astronauts on ISS\n",
      "And their names are :\n",
      "Oleg Kononenko\n",
      "Nikolai Chub\n",
      "Tracy Caldwell Dyson\n",
      "Matthew Dominick\n",
      "Michael Barratt\n",
      "Jeanette Epps\n",
      "Alexander Grebenkin\n",
      "Butch Wilmore\n",
      "Sunita Williams\n",
      "Li Guangsu\n",
      "Li Cong\n",
      "Ye Guangfu\n"
     ]
    }
   ],
   "source": [
    "astronauts = data.get('people')\n",
    "print(\"There are {} astronauts on ISS\".format(len(astronauts)))\n",
    "print(\"And their names are :\")\n",
    "for astronaut in astronauts:\n",
    "    print(astronaut.get('name'))"
   ]
  },
  {
   "cell_type": "markdown",
   "metadata": {},
   "source": [
    "Hope the warmup was helpful. Good luck with your next lab!\n"
   ]
  },
  {
   "cell_type": "markdown",
   "metadata": {},
   "source": [
    "## Lab: Collect Jobs Data using GitHub Jobs API\n"
   ]
  },
  {
   "cell_type": "markdown",
   "metadata": {},
   "source": [
    "### Objective: Determine the number of jobs currently open for various technologies  and for various locations\n"
   ]
  },
  {
   "cell_type": "markdown",
   "metadata": {},
   "source": [
    "Collect the number of job postings for the following locations using the API:\n",
    "\n",
    "* Los Angeles\n",
    "* New York\n",
    "* San Francisco\n",
    "* Washington DC\n",
    "* Seattle\n",
    "* Austin\n",
    "* Detroit\n"
   ]
  },
  {
   "cell_type": "code",
   "execution_count": 23,
   "metadata": {
    "tags": []
   },
   "outputs": [],
   "source": [
    "#Import required libraries\n",
    "import pandas as pd\n",
    "import json\n"
   ]
  },
  {
   "cell_type": "markdown",
   "metadata": {},
   "source": [
    "#### Write a function to get the number of jobs for the Python technology.<br>\n",
    "> Note: While using the lab you need to pass the **payload** information for the **params** attribute in the form of **key** **value** pairs.\n",
    "  Refer the ungraded **rest api lab** in the course **Python for Data Science, AI & Development**  <a href=\"https://www.coursera.org/learn/python-for-applied-data-science-ai/ungradedLti/P6sW8/hands-on-lab-access-rest-apis-request-http?utm_medium=Exinfluencer&utm_source=Exinfluencer&utm_content=000026UJ&utm_term=10006555&utm_id=NA-SkillsNetwork-Channel-SkillsNetworkCoursesIBMDA0321ENSkillsNetwork928-2022-01-01\">link</a>\n",
    "  \n",
    " ##### The keys in the json are \n",
    " * Job Title\n",
    " \n",
    " * Job Experience Required\n",
    " \n",
    " * Key Skills\n",
    " \n",
    " * Role Category\n",
    " \n",
    " * Location\n",
    " \n",
    " * Functional Area\n",
    " \n",
    " * Industry\n",
    " \n",
    " * Role \n",
    " \n",
    "You can also view  the json file contents  from the following <a href = \"https://cf-courses-data.s3.us.cloud-object-storage.appdomain.cloud/IBM-DA0321EN-SkillsNetwork/labs/module%201/Accessing%20Data%20Using%20APIs/jobs.json\">json</a> URL.\n",
    "\n"
   ]
  },
  {
   "cell_type": "code",
   "execution_count": 30,
   "metadata": {
    "tags": []
   },
   "outputs": [],
   "source": [
    "import requests\n",
    "\n",
    "api_url = \"http://127.0.0.1:5000/data\"\n",
    "\n",
    "def get_number_of_jobs_T(technology):\n",
    "    number_of_jobs = 0\n",
    "    try:\n",
    "        # Make a GET request to the API with the technology as a parameter\n",
    "        payload = {\"Key Skills\": technology}\n",
    "        response = requests.get(api_url, params=payload)\n",
    "        response.raise_for_status()  # Raises an HTTPError for bad responses\n",
    "        \n",
    "        # Parse the JSON response\n",
    "        data = response.json()\n",
    "        \n",
    "        # Count the number of jobs\n",
    "        if isinstance(data, list):\n",
    "            number_of_jobs = len(data)\n",
    "        else:\n",
    "            print(f\"Unexpected data format for {technology}. Received: {type(data)}\")\n",
    "    \n",
    "    except requests.exceptions.RequestException as e:\n",
    "        print(f\"An error occurred while making the request for {technology}: {e}\")\n",
    "    except ValueError as e:\n",
    "        print(f\"Error parsing JSON response for {technology}: {e}\")\n",
    "    except Exception as e:\n",
    "        print(f\"An unexpected error occurred for {technology}: {e}\")\n",
    "    \n",
    "    return technology, number_of_jobs\n"
   ]
  },
  {
   "cell_type": "code",
   "execution_count": 36,
   "metadata": {
    "tags": []
   },
   "outputs": [],
   "source": [
    "#api_url=\"http://127.0.0.1:5000/data\"\n",
    "#def get_number_of_jobs_T(technology):\n",
    "   \n",
    "    #your code goes here\n",
    "    #return technology,number_of_jobs"
   ]
  },
  {
   "cell_type": "markdown",
   "metadata": {},
   "source": [
    "Calling the function for Python and checking if it works.\n"
   ]
  },
  {
   "cell_type": "code",
   "execution_count": 31,
   "metadata": {
    "tags": []
   },
   "outputs": [
    {
     "name": "stdout",
     "output_type": "stream",
     "text": [
      "('Python', 1173)\n"
     ]
    }
   ],
   "source": [
    "#get_number_of_jobs_T(\"Python\")\n",
    "#print(get_number_of_jobs_T(\"Python\"))\n",
    "\n",
    "print(get_number_of_jobs_T(\"Python\"))\n",
    "\n",
    "\n"
   ]
  },
  {
   "cell_type": "markdown",
   "metadata": {},
   "source": [
    "#### Write a function to find number of jobs in US for a location of your choice\n"
   ]
  },
  {
   "cell_type": "code",
   "execution_count": 40,
   "metadata": {
    "tags": []
   },
   "outputs": [
    {
     "name": "stdout",
     "output_type": "stream",
     "text": [
      "Number of jobs in Los Angeles: 640\n",
      "Number of jobs in New York: 3226\n",
      "Number of jobs in San Francisco: 435\n",
      "Number of jobs in Washington DC: 5316\n",
      "Number of jobs in Seattle: 3375\n",
      "Number of jobs in Austin: 434\n",
      "Number of jobs in Detroit: 3945\n"
     ]
    }
   ],
   "source": [
    "#def get_number_of_jobs_L(location):\n",
    "#your coe goes here\n",
    "#return location,number_of_jobs\n",
    "import requests\n",
    "\n",
    "# Define the API URL\n",
    "api_url = \"http://127.0.0.1:5000/data\"\n",
    "\n",
    "def get_number_of_jobs_L(location):\n",
    "    number_of_jobs = 0  # Initialize the number of jobs to 0\n",
    "    try:\n",
    "        # Define the payload with the location\n",
    "        payload = {\"Location\": location}\n",
    "        \n",
    "        # Make a GET request to the API with the location as a parameter\n",
    "        response = requests.get(api_url, params=payload)\n",
    "        response.raise_for_status()  # Raises an HTTPError for bad responses\n",
    "        \n",
    "        # Parse the JSON response\n",
    "        data = response.json()\n",
    "        \n",
    "        # Count the number of jobs\n",
    "        if isinstance(data, list):\n",
    "            number_of_jobs = len(data)  # Count the number of job postings\n",
    "        else:\n",
    "            print(f\"Unexpected data format for {location}. Received: {type(data)}\")\n",
    "    \n",
    "    except requests.exceptions.RequestException as e:\n",
    "        print(f\"An error occurred while making the request for {location}: {e}\")\n",
    "    except ValueError as e:\n",
    "        print(f\"Error parsing JSON response for {location}: {e}\")\n",
    "    except Exception as e:\n",
    "        print(f\"An unexpected error occurred for {location}: {e}\")\n",
    "    \n",
    "    return location, number_of_jobs  # Return the location and the number of jobs found\n",
    "\n",
    "# Example usage\n",
    "if __name__ == \"__main__\":\n",
    "    location_to_check = \"Los Angeles\"\n",
    "    result = get_number_of_jobs_L(location_to_check)\n",
    "    print(f\"Number of jobs in {result[0]}: {result[1]}\")\n",
    "\n",
    "    # You can also check for other locations\n",
    "    locations = [\"New York\", \"San Francisco\", \"Washington DC\", \"Seattle\", \"Austin\", \"Detroit\"]\n",
    "    for loc in locations:\n",
    "        result = get_number_of_jobs_L(loc)\n",
    "        print(f\"Number of jobs in {result[0]}: {result[1]}\")\n",
    "\n",
    "\n"
   ]
  },
  {
   "cell_type": "markdown",
   "metadata": {},
   "source": [
    "Call the function for Los Angeles and check if it is working.\n"
   ]
  },
  {
   "cell_type": "code",
   "execution_count": 41,
   "metadata": {
    "tags": []
   },
   "outputs": [
    {
     "name": "stdout",
     "output_type": "stream",
     "text": [
      "Number of jobs in Los Angeles: 640\n"
     ]
    }
   ],
   "source": [
    "#your code goes here\n",
    "# Test the function for Los Angeles\n",
    "#print(get_number_of_jobs_L(\"Los Angeles\"))\n",
    "if __name__ == \"__main__\":\n",
    "    location_to_check = \"Los Angeles\"\n",
    "    result = get_number_of_jobs_L(location_to_check)\n",
    "    print(f\"Number of jobs in {result[0]}: {result[1]}\")"
   ]
  },
  {
   "cell_type": "markdown",
   "metadata": {},
   "source": [
    "### Store the results in an excel file\n"
   ]
  },
  {
   "cell_type": "markdown",
   "metadata": {},
   "source": [
    "Call the API for all the given technologies above and write the results in an excel spreadsheet.\n"
   ]
  },
  {
   "cell_type": "markdown",
   "metadata": {},
   "source": [
    "If you do not know how create excel file using python, double click here for **hints**.\n",
    "\n",
    "<!--\n",
    "\n",
    "from openpyxl import Workbook        # import Workbook class from module openpyxl\n",
    "wb=Workbook()                        # create a workbook object\n",
    "ws=wb.active                         # use the active worksheet\n",
    "ws.append(['Country','Continent'])   # add a row with two columns 'Country' and 'Continent'\n",
    "ws.append(['Eygpt','Africa'])        # add a row with two columns 'Egypt' and 'Africa'\n",
    "ws.append(['India','Asia'])          # add another row\n",
    "ws.append(['France','Europe'])       # add another row\n",
    "wb.save(\"countries.xlsx\")            # save the workbook into a file called countries.xlsx\n",
    "\n",
    "\n",
    "-->\n"
   ]
  },
  {
   "cell_type": "code",
   "execution_count": 43,
   "metadata": {
    "tags": []
   },
   "outputs": [
    {
     "name": "stdout",
     "output_type": "stream",
     "text": [
      "Collecting openpyxl\n",
      "  Downloading openpyxl-3.1.3-py2.py3-none-any.whl (251 kB)\n",
      "\u001b[2K     \u001b[90m━━━━━━━━━━━━━━━━━━━━━━━━━━━━━━━━━━━━━━\u001b[0m \u001b[32m251.3/251.3 kB\u001b[0m \u001b[31m32.9 MB/s\u001b[0m eta \u001b[36m0:00:00\u001b[0m\n",
      "\u001b[?25hCollecting et-xmlfile (from openpyxl)\n",
      "  Downloading et_xmlfile-1.1.0-py3-none-any.whl (4.7 kB)\n",
      "Installing collected packages: et-xmlfile, openpyxl\n",
      "Successfully installed et-xmlfile-1.1.0 openpyxl-3.1.3\n"
     ]
    }
   ],
   "source": [
    "!pip install openpyxl"
   ]
  },
  {
   "cell_type": "markdown",
   "metadata": {},
   "source": [
    "Create a python list of all technologies for which you need to find the number of jobs postings.\n"
   ]
  },
  {
   "cell_type": "code",
   "execution_count": 44,
   "metadata": {
    "tags": []
   },
   "outputs": [
    {
     "name": "stdout",
     "output_type": "stream",
     "text": [
      "Workbook 'job_postings.xlsx' has been created and saved.\n"
     ]
    }
   ],
   "source": [
    "#your code goes here\n",
    "from openpyxl import Workbook\n",
    "import requests\n",
    "\n",
    "# Define the API URL\n",
    "api_url = \"http://127.0.0.1:5000/data\"\n",
    "\n",
    "def get_number_of_jobs_T(technology):\n",
    "    number_of_jobs = 0\n",
    "    try:\n",
    "        payload = {\"Key Skills\": technology}\n",
    "        response = requests.get(api_url, params=payload)\n",
    "        response.raise_for_status()\n",
    "        data = response.json()\n",
    "        if isinstance(data, list):\n",
    "            number_of_jobs = len(data)\n",
    "    except Exception as e:\n",
    "        print(f\"Error retrieving data for {technology}: {e}\")\n",
    "    return technology, number_of_jobs\n",
    "\n",
    "# List of technologies to check\n",
    "technologies = [\"Python\", \"Java\", \"JavaScript\", \"C++\"]\n",
    "\n",
    "# Create a workbook and add data\n",
    "wb = Workbook()\n",
    "ws = wb.active\n",
    "ws.append(['Technology', 'Number of Jobs'])\n",
    "\n",
    "# Collect job posting data\n",
    "for tech in technologies:\n",
    "    technology, number_of_jobs = get_number_of_jobs_T(tech)\n",
    "    ws.append([technology, number_of_jobs])\n",
    "\n",
    "# Save the workbook\n",
    "wb.save(\"job_postings.xlsx\")\n",
    "print(\"Workbook 'job_postings.xlsx' has been created and saved.\")\n"
   ]
  },
  {
   "cell_type": "markdown",
   "metadata": {},
   "source": [
    "Import libraries required to create excel spreadsheet\n"
   ]
  },
  {
   "cell_type": "code",
   "execution_count": 45,
   "metadata": {
    "tags": []
   },
   "outputs": [],
   "source": [
    "# your code goes here\n",
    "import requests\n",
    "import pandas as pd\n",
    "from openpyxl import Workbook"
   ]
  },
  {
   "cell_type": "markdown",
   "metadata": {},
   "source": [
    "Create a workbook and select the active worksheet\n"
   ]
  },
  {
   "cell_type": "code",
   "execution_count": 46,
   "metadata": {
    "tags": []
   },
   "outputs": [
    {
     "name": "stdout",
     "output_type": "stream",
     "text": [
      "Workbook 'job_postings_by_technology.xlsx' has been created and data has been written.\n"
     ]
    }
   ],
   "source": [
    "# your code goes here\n",
    "import openpyxl\n",
    "\n",
    "# Step 1: Create a new workbook\n",
    "workbook = openpyxl.Workbook()\n",
    "\n",
    "# Step 2: Select the active worksheet\n",
    "active_worksheet = workbook.active\n",
    "\n",
    "# Step 3: Write some data to the worksheet\n",
    "# For example, writing headers\n",
    "active_worksheet['A1'] = 'Technology'\n",
    "active_worksheet['B1'] = 'Number of Jobs'\n",
    "\n",
    "# Example data to write\n",
    "data = [\n",
    "    ('Python', 150),\n",
    "    ('Java', 120),\n",
    "    ('JavaScript', 100),\n",
    "    ('C++', 80),\n",
    "]\n",
    "\n",
    "# Write data to the worksheet starting from row 2\n",
    "for row in data:\n",
    "    active_worksheet.append(row)\n",
    "\n",
    "# Step 4: Save the workbook\n",
    "excel_file = 'job_postings_by_technology.xlsx'\n",
    "workbook.save(excel_file)\n",
    "\n",
    "print(f\"Workbook '{excel_file}' has been created and data has been written.\")"
   ]
  },
  {
   "cell_type": "markdown",
   "metadata": {},
   "source": [
    "Find the number of jobs postings for each of the technology in the above list.\n",
    "Write the technology name and the number of jobs postings into the excel spreadsheet.\n"
   ]
  },
  {
   "cell_type": "code",
   "execution_count": 47,
   "metadata": {
    "tags": []
   },
   "outputs": [
    {
     "name": "stdout",
     "output_type": "stream",
     "text": [
      "Processed: C - 0 jobs\n",
      "Processed: C# - 0 jobs\n",
      "Processed: C++ - 0 jobs\n",
      "Processed: Java - 0 jobs\n",
      "Processed: JavaScript - 0 jobs\n",
      "Processed: Python - 0 jobs\n",
      "Processed: Scala - 0 jobs\n",
      "Processed: Oracle - 0 jobs\n",
      "Processed: SQL Server - 0 jobs\n",
      "Processed: MySQL Server - 0 jobs\n",
      "Processed: PostgreSQL - 0 jobs\n",
      "Processed: MongoDB - 0 jobs\n",
      "Workbook 'job_postings_by_technology.xlsx' has been created and data has been written.\n"
     ]
    }
   ],
   "source": [
    "#your code goes here\n",
    "import requests\n",
    "import openpyxl\n",
    "\n",
    "api_url = \"http://127.0.0.1:5000/data\"\n",
    "\n",
    "def get_number_of_jobs_T(technology):\n",
    "    number_of_jobs = 0\n",
    "    try:\n",
    "        response = requests.get(api_url)\n",
    "        response.raise_for_status()\n",
    "        data = response.json()\n",
    "        if isinstance(data, list):\n",
    "            jobs = [job for job in data if isinstance(job, dict) and \n",
    "                    'Key Skills' in job and \n",
    "                    technology.lower() in job['Key Skills'].lower()]\n",
    "            number_of_jobs = len(jobs)\n",
    "    except requests.exceptions.RequestException as e:\n",
    "        print(f\"An error occurred while making the request: {e}\")\n",
    "    except ValueError as e:\n",
    "        print(f\"Error parsing JSON response: {e}\")\n",
    "    except Exception as e:\n",
    "        print(f\"An unexpected error occurred: {e}\")\n",
    "    return number_of_jobs\n",
    "\n",
    "# List of technologies\n",
    "technologies = [\n",
    "    \"C\", \"C#\", \"C++\", \"Java\", \"JavaScript\", \"Python\", \"Scala\", \"Oracle\", \n",
    "    \"SQL Server\", \"MySQL Server\", \"PostgreSQL\", \"MongoDB\"\n",
    "]\n",
    "\n",
    "# Create a new workbook and select the active worksheet\n",
    "workbook = openpyxl.Workbook()\n",
    "active_worksheet = workbook.active\n",
    "\n",
    "# Write headers\n",
    "active_worksheet['A1'] = 'Technology'\n",
    "active_worksheet['B1'] = 'Number of Jobs'\n",
    "\n",
    "# Collect results and write to the worksheet\n",
    "for row, tech in enumerate(technologies, start=2):\n",
    "    number_of_jobs = get_number_of_jobs_T(tech)\n",
    "    active_worksheet[f'A{row}'] = tech\n",
    "    active_worksheet[f'B{row}'] = number_of_jobs\n",
    "    print(f\"Processed: {tech} - {number_of_jobs} jobs\")\n",
    "\n",
    "# Save the workbook\n",
    "excel_file = 'job_postings_by_technology.xlsx'\n",
    "workbook.save(excel_file)\n",
    "\n",
    "print(f\"Workbook '{excel_file}' has been created and data has been written.\")"
   ]
  },
  {
   "cell_type": "markdown",
   "metadata": {},
   "source": [
    "Save into an excel spreadsheet named 'github-job-postings.xlsx'.\n"
   ]
  },
  {
   "cell_type": "code",
   "execution_count": 48,
   "metadata": {
    "tags": []
   },
   "outputs": [
    {
     "name": "stdout",
     "output_type": "stream",
     "text": [
      "Workbook 'github-job-postings.xlsx' has been created and data has been written.\n"
     ]
    }
   ],
   "source": [
    "#your code goes here\n",
    "excel_file = 'github-job-postings.xlsx'\n",
    "workbook.save(excel_file)\n",
    "\n",
    "print(f\"Workbook '{excel_file}' has been created and data has been written.\")"
   ]
  },
  {
   "cell_type": "markdown",
   "metadata": {},
   "source": [
    "#### In the similar way, you can try for below given technologies and results  can be stored in an excel sheet.\n"
   ]
  },
  {
   "cell_type": "markdown",
   "metadata": {},
   "source": [
    "Collect the number of job postings for the following languages using the API:\n",
    "\n",
    "*   C\n",
    "*   C#\n",
    "*   C++\n",
    "*   Java\n",
    "*   JavaScript\n",
    "*   Python\n",
    "*   Scala\n",
    "*   Oracle\n",
    "*   SQL Server\n",
    "*   MySQL Server\n",
    "*   PostgreSQL\n",
    "*   MongoDB\n"
   ]
  },
  {
   "cell_type": "code",
   "execution_count": 49,
   "metadata": {
    "tags": []
   },
   "outputs": [
    {
     "name": "stdout",
     "output_type": "stream",
     "text": [
      "Processed: C - 0 jobs\n",
      "Processed: C# - 0 jobs\n",
      "Processed: C++ - 0 jobs\n",
      "Processed: Java - 0 jobs\n",
      "Processed: JavaScript - 0 jobs\n",
      "Processed: Python - 0 jobs\n",
      "Processed: Scala - 0 jobs\n",
      "Processed: Oracle - 0 jobs\n",
      "Processed: SQL Server - 0 jobs\n",
      "Processed: MySQL Server - 0 jobs\n",
      "Processed: PostgreSQL - 0 jobs\n",
      "Processed: MongoDB - 0 jobs\n",
      "Workbook 'github-job-postings.xlsx' has been created and data has been written.\n"
     ]
    }
   ],
   "source": [
    "# your code goes here\n",
    "# List of technologies\n",
    "technologies = [\n",
    "    \"C\", \"C#\", \"C++\", \"Java\", \"JavaScript\", \"Python\", \"Scala\", \"Oracle\", \n",
    "    \"SQL Server\", \"MySQL Server\", \"PostgreSQL\", \"MongoDB\"\n",
    "]\n",
    "\n",
    "# Create a new workbook and select the active worksheet\n",
    "workbook = openpyxl.Workbook()\n",
    "active_worksheet = workbook.active\n",
    "\n",
    "# Write headers\n",
    "active_worksheet['A1'] = 'Technology'\n",
    "active_worksheet['B1'] = 'Number of Jobs'\n",
    "\n",
    "# Collect results and write to the worksheet\n",
    "for row, tech in enumerate(technologies, start=2):\n",
    "    number_of_jobs = get_number_of_jobs_T(tech)\n",
    "    active_worksheet[f'A{row}'] = tech\n",
    "    active_worksheet[f'B{row}'] = number_of_jobs\n",
    "    print(f\"Processed: {tech} - {number_of_jobs} jobs\")\n",
    "\n",
    "# Save the workbook with the specified name\n",
    "excel_file = 'github-job-postings.xlsx'\n",
    "workbook.save(excel_file)\n",
    "\n",
    "print(f\"Workbook '{excel_file}' has been created and data has been written.\")"
   ]
  },
  {
   "cell_type": "markdown",
   "metadata": {},
   "source": [
    "## Authors\n"
   ]
  },
  {
   "cell_type": "markdown",
   "metadata": {},
   "source": [
    "Ayushi Jain\n"
   ]
  },
  {
   "cell_type": "markdown",
   "metadata": {},
   "source": [
    "### Other Contributors\n"
   ]
  },
  {
   "cell_type": "markdown",
   "metadata": {},
   "source": [
    "Rav Ahuja\n",
    "\n",
    "Lakshmi Holla\n",
    "\n",
    "Malika\n"
   ]
  },
  {
   "cell_type": "markdown",
   "metadata": {},
   "source": [
    "Copyright © 2020 IBM Corporation. This notebook and its source code are released under the terms of the [MIT License](https://cognitiveclass.ai/mit-license?utm_medium=Exinfluencer\\&utm_source=Exinfluencer\\&utm_content=000026UJ\\&utm_term=10006555\\&utm_id=NA-SkillsNetwork-Channel-SkillsNetworkCoursesIBMDA0321ENSkillsNetwork21426264-2021-01-01\\&cm_mmc=Email_Newsletter-\\_-Developer_Ed%2BTech-\\_-WW_WW-\\_-SkillsNetwork-Courses-IBM-DA0321EN-SkillsNetwork-21426264\\&cm_mmca1=000026UJ\\&cm_mmca2=10006555\\&cm_mmca3=M12345678\\&cvosrc=email.Newsletter.M12345678\\&cvo_campaign=000026UJ).\n"
   ]
  },
  {
   "cell_type": "markdown",
   "metadata": {},
   "source": [
    "<!--## Change Log\n"
   ]
  },
  {
   "cell_type": "markdown",
   "metadata": {},
   "source": [
    "<!--| Date (YYYY-MM-DD) | Version | Changed By        | Change Description                 |\n",
    "| ----------------- | ------- | ----------------- | ---------------------------------- | \n",
    "| 2022-01-19        | 0.3     | Lakshmi Holla        | Added changes in the markdown      |\n",
    "| 2021-06-25        | 0.2     | Malika            | Updated GitHub job json link       |\n",
    "| 2020-10-17        | 0.1     | Ramesh Sannareddy | Created initial version of the lab |--!>\n"
   ]
  }
 ],
 "metadata": {
  "kernelspec": {
   "display_name": "Python",
   "language": "python",
   "name": "conda-env-python-py"
  },
  "language_info": {
   "codemirror_mode": {
    "name": "ipython",
    "version": 3
   },
   "file_extension": ".py",
   "mimetype": "text/x-python",
   "name": "python",
   "nbconvert_exporter": "python",
   "pygments_lexer": "ipython3",
   "version": "3.7.12"
  },
  "prev_pub_hash": "1b8d0eda4e37134d8622f6a7e43672215f794f9967f66a185fbdc3f7896bbb36"
 },
 "nbformat": 4,
 "nbformat_minor": 4
}
